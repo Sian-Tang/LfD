{
 "cells": [
  {
   "cell_type": "markdown",
   "id": "c6b18e09",
   "metadata": {},
   "source": [
    "# Perceptron Algorithm (PLA) based on Christianini & Shawe-Taylor (2000)\n",
    "\n",
    "## Input:\n",
    "###### perceptron(X,Y,$\\eta$,max_iter=300)\n",
    "`X` is an array of np.array vectors\n",
    "\n",
    "`Y` is an np.array of label of all x vectors\n",
    "\n",
    "$\\eta$ is the learning rate\n",
    "\n",
    "`max_iter` is the maximum amount of iterations \n",
    "\n",
    "## Output:\n",
    "###### (w,b,k)\n",
    "`w` is a vector containing all the weights\n",
    "\n",
    "`b` is \"tbd\"\n",
    "\n",
    "`k`number of times the weights were adjusted"
   ]
  },
  {
   "cell_type": "code",
   "execution_count": 1,
   "id": "e74edc39",
   "metadata": {},
   "outputs": [],
   "source": [
    "import numpy as np\n",
    "from numpy import linalg as LA"
   ]
  },
  {
   "cell_type": "code",
   "execution_count": 5,
   "id": "1630e36d",
   "metadata": {},
   "outputs": [],
   "source": [
    "# Input X: array of np.array vector (n-dim. arrays) in space\n",
    "# Input Y: np.array of label of points\n",
    "# Input eta: learning rate\n",
    "# Output: weight vector, b (bias?), number of steps where the weights are adjusted\n",
    "def perceptron(X,Y,eta, max_iter = 300):\n",
    "    # Initializing parameters\n",
    "    dimension = X[0].__len__()\n",
    "    weights = np.array([0]*dimension)\n",
    "    b = 0\n",
    "    k = 0\n",
    "    k_old = k\n",
    "    # R is distance (maximum euclidean norm of all the x vectors)\n",
    "    R = max([LA.norm(i) for i in X])\n",
    "    \n",
    "    # perceptron algorithm (PLA) based on Christianini & Shawe-Taylor (2000)\n",
    "    while(max_iter > 0):\n",
    "        k_old = k\n",
    "        max_iter = max_iter - 1\n",
    "        for point,label in zip(X,Y):\n",
    "            if(label*(np.inner(weights,point) + b) <= 0):\n",
    "                weights = weights + eta*label*point\n",
    "                b = b + eta*label*(R**2)\n",
    "                k = k + 1\n",
    "        if(k_old == k):\n",
    "            break\n",
    "    return [weights, b, k]"
   ]
  },
  {
   "cell_type": "code",
   "execution_count": 6,
   "id": "2bd7a7f3",
   "metadata": {},
   "outputs": [],
   "source": [
    "X = [np.array([1,2]),\n",
    "     np.array([3,2]),\n",
    "     np.array([2,1]),\n",
    "     np.array([3,3])]\n",
    "\n",
    "Y = np.array([-1,1,-1,1])\n",
    "eta = 1"
   ]
  },
  {
   "cell_type": "code",
   "execution_count": 7,
   "id": "e1fe894a",
   "metadata": {},
   "outputs": [
    {
     "data": {
      "text/plain": [
       "[array([5, 2]), -17.999999999999996, 9]"
      ]
     },
     "execution_count": 7,
     "metadata": {},
     "output_type": "execute_result"
    }
   ],
   "source": [
    "perceptron(X,Y,eta)"
   ]
  },
  {
   "cell_type": "code",
   "execution_count": null,
   "id": "4c7750fc",
   "metadata": {},
   "outputs": [],
   "source": []
  }
 ],
 "metadata": {
  "kernelspec": {
   "display_name": "Python 3 (ipykernel)",
   "language": "python",
   "name": "python3"
  },
  "language_info": {
   "codemirror_mode": {
    "name": "ipython",
    "version": 3
   },
   "file_extension": ".py",
   "mimetype": "text/x-python",
   "name": "python",
   "nbconvert_exporter": "python",
   "pygments_lexer": "ipython3",
   "version": "3.10.4"
  }
 },
 "nbformat": 4,
 "nbformat_minor": 5
}
